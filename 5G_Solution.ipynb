{
 "cells": [
  {
   "cell_type": "code",
   "execution_count": 1,
   "metadata": {
    "colab": {
     "base_uri": "https://localhost:8080/"
    },
    "id": "qNTSCrhnn23P",
    "outputId": "8d6e742c-447d-4e2f-c0f3-a4d90364626a"
   },
   "outputs": [
    {
     "name": "stdout",
     "output_type": "stream",
     "text": [
      "Collecting lightgbm==3.3.5\n",
      "  Downloading lightgbm-3.3.5-py3-none-manylinux1_x86_64.whl (2.0 MB)\n",
      "\u001b[2K     \u001b[90m━━━━━━━━━━━━━━━━━━━━━━━━━━━━━━━━━━━━━━━━\u001b[0m \u001b[32m2.0/2.0 MB\u001b[0m \u001b[31m9.6 MB/s\u001b[0m eta \u001b[36m0:00:00\u001b[0m\n",
      "\u001b[?25hRequirement already satisfied: wheel in /usr/local/lib/python3.10/dist-packages (from lightgbm==3.3.5) (0.41.1)\n",
      "Requirement already satisfied: numpy in /usr/local/lib/python3.10/dist-packages (from lightgbm==3.3.5) (1.23.5)\n",
      "Requirement already satisfied: scipy in /usr/local/lib/python3.10/dist-packages (from lightgbm==3.3.5) (1.10.1)\n",
      "Requirement already satisfied: scikit-learn!=0.22.0 in /usr/local/lib/python3.10/dist-packages (from lightgbm==3.3.5) (1.2.2)\n",
      "Requirement already satisfied: joblib>=1.1.1 in /usr/local/lib/python3.10/dist-packages (from scikit-learn!=0.22.0->lightgbm==3.3.5) (1.3.2)\n",
      "Requirement already satisfied: threadpoolctl>=2.0.0 in /usr/local/lib/python3.10/dist-packages (from scikit-learn!=0.22.0->lightgbm==3.3.5) (3.2.0)\n",
      "Installing collected packages: lightgbm\n",
      "  Attempting uninstall: lightgbm\n",
      "    Found existing installation: lightgbm 4.0.0\n",
      "    Uninstalling lightgbm-4.0.0:\n",
      "      Successfully uninstalled lightgbm-4.0.0\n",
      "Successfully installed lightgbm-3.3.5\n"
     ]
    }
   ],
   "source": [
    "!pip install lightgbm==3.3.5"
   ]
  },
  {
   "cell_type": "code",
   "execution_count": 2,
   "metadata": {
    "id": "qme57gYeZ25J"
   },
   "outputs": [],
   "source": [
    "import pandas as pd\n",
    "import numpy as np\n",
    "\n",
    "import warnings\n",
    "warnings.filterwarnings('ignore')"
   ]
  },
  {
   "cell_type": "code",
   "execution_count": 3,
   "metadata": {
    "id": "gnCKFassaIoQ"
   },
   "outputs": [],
   "source": [
    "ss = pd.read_csv('/content/drive/MyDrive/Fault Impact Analysis/SampleSubmission.csv')\n",
    "train_path = \"/content/drive/MyDrive/Fault Impact Analysis/train\"\n",
    "test_path = \"/content/drive/MyDrive/Fault Impact Analysis/test\""
   ]
  },
  {
   "cell_type": "code",
   "execution_count": 4,
   "metadata": {
    "colab": {
     "base_uri": "https://localhost:8080/"
    },
    "id": "r_sUrkwwgKRW",
    "outputId": "eadb6948-f095-43fe-c3c4-d101d759542a"
   },
   "outputs": [
    {
     "data": {
      "text/plain": [
       "(1932, 2)"
      ]
     },
     "execution_count": 4,
     "metadata": {},
     "output_type": "execute_result"
    }
   ],
   "source": [
    "ss.shape"
   ]
  },
  {
   "cell_type": "code",
   "execution_count": 5,
   "metadata": {
    "id": "o8zpsYMoaL5y"
   },
   "outputs": [],
   "source": [
    "import os\n",
    "def get_train(path, train=True):\n",
    "  data = []\n",
    "  files = os.listdir(path)\n",
    "  print(len(files))\n",
    "  for file in files:\n",
    "    if file.endswith(\".csv.csv\"):\n",
    "      tmp = pd.read_csv(os.path.join(path, file))\n",
    "\n",
    "      # Check csv where fault occurred throughout and drop them\n",
    "      if all(tmp['fault_duration'] > 0):\n",
    "          print(f\"Skipping file as fault occurred in all: {file}\")\n",
    "          continue\n",
    "\n",
    "      #i'm renaming each NE ID as the file name\n",
    "      tmp['NE ID'] = file.split(\".\")[0]\n",
    "      data.append(tmp)\n",
    "\n",
    "  data = pd.concat(data, axis=0)\n",
    "  data.reset_index(drop=True, inplace=True)\n",
    "  return data"
   ]
  },
  {
   "cell_type": "code",
   "execution_count": 6,
   "metadata": {
    "id": "i-ClJIqSahdM"
   },
   "outputs": [],
   "source": [
    "import os\n",
    "def get_test(path):\n",
    "  data = []\n",
    "  files = os.listdir(path)\n",
    "  print(len(files))\n",
    "  for file in files:\n",
    "    if file.endswith(\".csv.csv\"):\n",
    "      tmp = pd.read_csv(os.path.join(path, file))\n",
    "\n",
    "      tmp['NE ID'] = file.split(\".\")[0]\n",
    "      data.append(tmp)\n",
    "\n",
    "  data = pd.concat(data, axis=0)\n",
    "  data.reset_index(drop=True, inplace=True)\n",
    "  return data"
   ]
  },
  {
   "cell_type": "code",
   "execution_count": 7,
   "metadata": {
    "colab": {
     "base_uri": "https://localhost:8080/"
    },
    "id": "V44acz8javoN",
    "outputId": "63be0281-d6ee-4df2-81cb-8a4dd4cd14a2"
   },
   "outputs": [
    {
     "name": "stdout",
     "output_type": "stream",
     "text": [
      "7256\n",
      "Skipping file as fault occurred in all: B0652-23_1.csv.csv\n",
      "Skipping file as fault occurred in all: B0652-25_1.csv.csv\n",
      "Skipping file as fault occurred in all: B0654-22_1.csv.csv\n",
      "Skipping file as fault occurred in all: B0654-32_1.csv.csv\n",
      "Skipping file as fault occurred in all: B0654-12_1.csv.csv\n",
      "Skipping file as fault occurred in all: B0695-33_1.csv.csv\n",
      "Skipping file as fault occurred in all: B0625-13_1.csv.csv\n",
      "Skipping file as fault occurred in all: B0625-12_1.csv.csv\n",
      "Skipping file as fault occurred in all: B0625-15_1.csv.csv\n",
      "Skipping file as fault occurred in all: B0554-22_1.csv.csv\n",
      "Skipping file as fault occurred in all: B0573-22_1.csv.csv\n",
      "Skipping file as fault occurred in all: B0573-23_1.csv.csv\n",
      "Skipping file as fault occurred in all: B0573-32_1.csv.csv\n",
      "Skipping file as fault occurred in all: B0573-33_1.csv.csv\n",
      "Skipping file as fault occurred in all: B0356-22_1.csv.csv\n",
      "Skipping file as fault occurred in all: B0356-32_1.csv.csv\n",
      "Skipping file as fault occurred in all: B0356-25_1.csv.csv\n",
      "Skipping file as fault occurred in all: B0356-23_1.csv.csv\n",
      "Skipping file as fault occurred in all: B0356-33_1.csv.csv\n",
      "Skipping file as fault occurred in all: B0356-35_1.csv.csv\n",
      "Skipping file as fault occurred in all: B0400-32_1.csv.csv\n",
      "Skipping file as fault occurred in all: B0400-35_1.csv.csv\n",
      "Skipping file as fault occurred in all: B0400-33_1.csv.csv\n",
      "Skipping file as fault occurred in all: B0296-145_1.csv.csv\n",
      "Skipping file as fault occurred in all: B0296-143_1.csv.csv\n",
      "Skipping file as fault occurred in all: B0296-142_1.csv.csv\n",
      "Skipping file as fault occurred in all: B0320-213_1.csv.csv\n",
      "Skipping file as fault occurred in all: B0320-212_1.csv.csv\n",
      "Skipping file as fault occurred in all: B0217-32_1.csv.csv\n",
      "Skipping file as fault occurred in all: B0217-45_1.csv.csv\n",
      "Skipping file as fault occurred in all: B0217-35_1.csv.csv\n",
      "Skipping file as fault occurred in all: B0217-42_1.csv.csv\n",
      "CPU times: user 23.3 s, sys: 1.67 s, total: 24.9 s\n",
      "Wall time: 4min 54s\n"
     ]
    }
   ],
   "source": [
    "# Load and filter the datasets\n",
    "%%time\n",
    "train = get_train(train_path)"
   ]
  },
  {
   "cell_type": "code",
   "execution_count": 8,
   "metadata": {
    "colab": {
     "base_uri": "https://localhost:8080/"
    },
    "id": "QIjozSuwa27_",
    "outputId": "3204b689-c1e0-46e9-ecdd-95291564edc1"
   },
   "outputs": [
    {
     "name": "stdout",
     "output_type": "stream",
     "text": [
      "1932\n",
      "CPU times: user 5.73 s, sys: 313 ms, total: 6.05 s\n",
      "Wall time: 55.8 s\n"
     ]
    }
   ],
   "source": [
    "%%time\n",
    "test = get_test(test_path)"
   ]
  },
  {
   "cell_type": "code",
   "execution_count": 9,
   "metadata": {
    "id": "3Ypuxj9ha7VA"
   },
   "outputs": [],
   "source": [
    "def separate_date(df):\n",
    "  df['endTime'] = pd.to_datetime(df['endTime'], format='%Y-%m-%d %H:%M:%S')\n",
    "  df['month'] = df['endTime'].dt.month\n",
    "  df['day'] = df['endTime'].dt.day\n",
    "  df['hour'] = df['endTime'].dt.hour\n",
    "  df['weekday'] = df['endTime'].dt.weekday\n",
    "  df['is_weekend'] = df['weekday'].isin([5, 6]).astype(int)\n",
    "  return df"
   ]
  },
  {
   "cell_type": "code",
   "execution_count": 10,
   "metadata": {
    "id": "QWuIqSeaa7Rp"
   },
   "outputs": [],
   "source": [
    "train = separate_date(train)\n",
    "test = separate_date(test)"
   ]
  },
  {
   "cell_type": "code",
   "execution_count": 11,
   "metadata": {
    "colab": {
     "base_uri": "https://localhost:8080/"
    },
    "id": "lK6dur-Ma7OJ",
    "outputId": "50e5e8ec-a17d-470a-c274-c99e3671bcc3"
   },
   "outputs": [
    {
     "data": {
      "text/plain": [
       "((905507, 16), (175150, 17))"
      ]
     },
     "execution_count": 11,
     "metadata": {},
     "output_type": "execute_result"
    }
   ],
   "source": [
    "train.shape, test.shape"
   ]
  },
  {
   "cell_type": "code",
   "execution_count": 14,
   "metadata": {
    "id": "_DtQSF4ua7K8"
   },
   "outputs": [],
   "source": [
    "def compute_features_shift_aggregate(data, feature_list, shift_vals=[1, 2]):\n",
    "\n",
    "    all_difference_dfs = []\n",
    "    # Compute differences for each shift and store in a list\n",
    "    for shift_val in shift_vals:\n",
    "        shifted_df = data.sort_values(by='endTime')[feature_list].shift(shift_val).sort_index()\n",
    "        difference_df = data[feature_list] - shifted_df\n",
    "        if shift_val < 0:\n",
    "            suffix = f'_next_diff_{abs(shift_val)}'\n",
    "        else:\n",
    "            suffix = f'_prev_diff_{shift_val}'\n",
    "        difference_df.columns = [col + suffix for col in difference_df.columns]\n",
    "\n",
    "        all_difference_dfs.append(difference_df)\n",
    "\n",
    "    # Combine all difference dataframes into one\n",
    "    combined_difference_df = pd.concat(all_difference_dfs, axis=1)\n",
    "\n",
    "    # Aggregate combined differences\n",
    "    aggregated_df = combined_difference_df.groupby([data['hour']]).agg(['sum', 'mean', 'std', 'max', 'min'])\n",
    "    aggregated_df.columns = ['_'.join(col).strip() for col in aggregated_df.columns.values]\n",
    "    aggregated_df.reset_index(inplace=True)\n",
    "\n",
    "    # Retrieve the last row for each hour\n",
    "    last_rows_diff = combined_difference_df.groupby([data['hour']]).last().reset_index()\n",
    "    first_rows_diff = combined_difference_df.groupby([data['hour']]).first().reset_index()\n",
    "\n",
    "    # Merge aggregated results with last row differences\n",
    "    result_df = pd.merge(first_rows_diff, last_rows_diff, on=[\"hour\"], how=\"left\")\n",
    "    result_df = pd.merge(result_df, aggregated_df, on=[ \"hour\"], how=\"left\")\n",
    "\n",
    "    return result_df"
   ]
  },
  {
   "cell_type": "code",
   "execution_count": 15,
   "metadata": {
    "id": "OW-C8p3_8lgE"
   },
   "outputs": [],
   "source": [
    "def compute_aggregation(df, columns, operation):\n",
    "    # Filter rows where 'fault_duration' > 0\n",
    "    filtered_df = df[df['fault_duration'] > 0]\n",
    "\n",
    "    if operation == \"mean\":\n",
    "        agg_df = filtered_df[columns].mean().to_frame().T\n",
    "    elif operation == \"max\":\n",
    "        agg_df = filtered_df[columns].max().to_frame().T\n",
    "    elif operation == \"min\":\n",
    "        agg_df = filtered_df[columns].min().to_frame().T\n",
    "    elif operation == \"std\":\n",
    "        agg_df = filtered_df[columns].std().to_frame().T\n",
    "    elif operation == \"skew\":\n",
    "        agg_df = filtered_df[columns].skew().to_frame().T\n",
    "    else:\n",
    "        raise ValueError(f\"Unsupported operation: {operation}\")\n",
    "\n",
    "    suffix = f\"{operation}_fault\"\n",
    "    agg_df.columns = [f\"{col}_{suffix}\" for col in agg_df.columns]\n",
    "\n",
    "    return agg_df"
   ]
  },
  {
   "cell_type": "code",
   "execution_count": 53,
   "metadata": {
    "id": "GwJWNOzea7IB"
   },
   "outputs": [],
   "source": [
    "def extract_relevant_data(train, test, is_train=True):\n",
    "    test = test.drop(columns=['Unnamed: 0'])\n",
    "    group_df = pd.concat([train, test]).reset_index(drop=True)\n",
    "    # Extracting the row just before the fault occurs\n",
    "    before_fault = group_df[group_df['fault_duration'] == 0].drop(columns=['fault_duration','relation',\"endTime\",'hour','day','month'])\n",
    "    before_fault1 = group_df[group_df['fault_duration'] == 0].drop(columns=['fault_duration','relation'])\n",
    "    before_fault2 = group_df[group_df['fault_duration'] == 0].drop(columns=['fault_duration','relation',\"endTime\",'hour','day','month'])\n",
    "    before_fault3 = group_df[group_df['fault_duration'] > 0]\n",
    "\n",
    "    feature_list = ['access_success_rate','resource_utilition_rate','TA','bler','cqi','mcs','data_rate']\n",
    "    a = compute_features_shift_aggregate(before_fault1, feature_list, shift_vals=[1])\n",
    "    b = compute_features_shift_aggregate(before_fault1, feature_list, shift_vals=[-1])\n",
    "\n",
    "    features = ['fault_duration']\n",
    "    fault_rows = group_df[group_df['fault_duration'] > 0].groupby(['NE ID']).first().reset_index()\n",
    "    fault_hour_mean = group_df[group_df['fault_duration'] > 0].groupby(['day', 'hour']).mean()[['access_success_rate','resource_utilition_rate','TA','bler','cqi','mcs','data_rate']].add_suffix(f\"_mean_day_hour_fault\").reset_index()\n",
    "    fault_hour_max = group_df[group_df['fault_duration'] > 0].groupby(['day', 'hour']).max()[['access_success_rate','resource_utilition_rate','TA','bler','cqi','mcs','data_rate']].add_suffix(f\"_max_day_hour_fault\").reset_index()\n",
    "    fault_hour_min = group_df[group_df['fault_duration'] > 0].groupby(['day', 'hour']).min()[['access_success_rate','resource_utilition_rate','TA','bler','cqi','mcs','data_rate']].add_suffix(f\"_min_day_hour_fault\").reset_index()\n",
    "    fault_hour_std = group_df[group_df['fault_duration'] > 0].groupby(['day', 'hour']).std()[['access_success_rate','resource_utilition_rate','TA','bler','cqi','mcs','data_rate']].add_suffix(f\"_std_day_hour_fault\").reset_index()\n",
    "\n",
    "    count_fault = group_df[group_df['fault_duration'] > 0].groupby(['NE ID']).count()[['fault_duration']].add_suffix(f\"_count_ne_fault\").reset_index()\n",
    "    count_no_fault = group_df[group_df['fault_duration'] == 0].groupby(['NE ID']).count()[['fault_duration']].add_suffix(f\"_count_ne_no_fault\").reset_index()\n",
    "    mean_fault = group_df[group_df['fault_duration'] > 0].groupby(['NE ID']).mean()[['fault_duration']].add_suffix(f\"_mean_ne_fault\").reset_index()\n",
    "    std_fault = group_df[group_df['fault_duration'] > 0].groupby(['NE ID']).std()[['fault_duration']].add_suffix(f\"_std_ne_fault\").reset_index()\n",
    "    skew_fault = group_df[group_df['fault_duration'] > 0].groupby(['NE ID']).skew()[['fault_duration']].add_suffix(f\"_skew_ne_fault\").reset_index()\n",
    "\n",
    "    columns_to_compute = ['access_success_rate', 'resource_utilition_rate', 'TA', 'bler', 'cqi', 'mcs', 'data_rate']\n",
    "    mean_fault_df = compute_aggregation(group_df, columns_to_compute, operation=\"mean\")\n",
    "    std_fault_df = compute_aggregation(group_df, columns_to_compute, operation=\"std\")\n",
    "    max_fault_df = compute_aggregation(group_df, columns_to_compute, operation=\"max\")\n",
    "    min_fault_df = compute_aggregation(group_df, columns_to_compute, operation=\"min\")\n",
    "\n",
    "    all_fault_df = pd.concat([mean_fault_df, std_fault_df, max_fault_df, min_fault_df], axis=1)\n",
    "\n",
    "    # Get the last row for each \"NE ID\"\n",
    "    rows = before_fault1.groupby([\"NE ID\"]).last()[['access_success_rate','resource_utilition_rate','TA','bler','cqi','mcs','data_rate','hour']].add_suffix(f\"_prev___1\").reset_index()\n",
    "\n",
    "    grouped1 = before_fault1.groupby(\"NE ID\")\n",
    "\n",
    "    # Get the last row for each group\n",
    "    last_row = grouped1.last()[['access_success_rate','resource_utilition_rate','TA','bler','cqi','mcs','data_rate']]\n",
    "\n",
    "    # Get the second to last row for each group\n",
    "    second_last_row = grouped1.nth(-2)[['access_success_rate','resource_utilition_rate','TA','bler','cqi','mcs','data_rate']]\n",
    "\n",
    "    third_last_row = grouped1.nth(-3)[['access_success_rate','resource_utilition_rate','TA','bler','cqi','mcs','data_rate']]\n",
    "\n",
    "    fouth_last_row = grouped1.nth(-4)[['access_success_rate','resource_utilition_rate','TA','bler','cqi','mcs','data_rate']]\n",
    "\n",
    "    difference = last_row - second_last_row\n",
    "    difference = difference.add_suffix(f\"_diff_last_2\").reset_index()\n",
    "\n",
    "    difference1 = second_last_row - third_last_row\n",
    "    difference1 = difference1.add_suffix(f\"_diff_last_3\").reset_index()\n",
    "\n",
    "    mean_df = before_fault.groupby(\"NE ID\", as_index=True).mean().add_prefix(\"mean_\")\n",
    "    std_df = before_fault.groupby(\"NE ID\", as_index=True).std().add_prefix(\"std_\")\n",
    "    min_df = before_fault.groupby(\"NE ID\", as_index=True).min().add_prefix(\"min_\")\n",
    "    max_df = before_fault.groupby(\"NE ID\", as_index=True).max().add_prefix(\"max_\")\n",
    "\n",
    "    mdh_0 = before_fault1.groupby(['hour']).agg(\n",
    "             mdh_asr_mean_0 = ('access_success_rate', 'mean'),\n",
    "             mdh_asr_std_0 = ('access_success_rate', 'std'),\n",
    "             mdh_asr_min_0 = ('access_success_rate', 'min'),\n",
    "             mdh_asr_max_0 = ('access_success_rate', 'max'),\n",
    "             mdh_asr_skew_0 = ('access_success_rate', 'skew'),\n",
    "\n",
    "\n",
    "             mdh_rur_mean_0 = ('resource_utilition_rate', 'mean'),\n",
    "             mdh_rur_std_0 = ('resource_utilition_rate', 'std'),\n",
    "             mdh_rur_min_0 = ('resource_utilition_rate', 'min'),\n",
    "             mdh_rur_max_0 = ('resource_utilition_rate', 'max'),\n",
    "             mdh_rur_skew_0 = ('resource_utilition_rate', 'skew'),\n",
    "\n",
    "             mdh_ble_mean_0 = ('bler', 'mean'),\n",
    "             mdh_ble_std_0 = ('bler', 'std'),\n",
    "             mdh_ble_min_0 = ('bler', 'min'),\n",
    "             mdh_ble_max_0 = ('bler', 'max'),\n",
    "             mdh_ble_skew_0 = ('bler', 'skew'),\n",
    "\n",
    "             mdh_mcs_mean_0 = ('mcs', 'mean'),\n",
    "             mdh_mcs_std_0 = ('mcs', 'std'),\n",
    "             mdh_mcs_min_0 = ('mcs', 'min'),\n",
    "             mdh_mcs_max_0 = ('mcs', 'max'),\n",
    "             mdh_mcs_skew_0 = ('mcs', 'skew'),\n",
    "\n",
    "             mdh_TA_mean_0 = ('TA', 'mean'),\n",
    "             mdh_TA_std_0 = ('TA', 'std'),\n",
    "             mdh_TA_min_0 = ('TA', 'min'),\n",
    "             mdh_TA_max_0 = ('TA', 'max'),\n",
    "             mdh_TA_skew_0 = ('TA', 'skew'),\n",
    "\n",
    "             mdh_dr_mean_0 = ('data_rate', 'mean'),\n",
    "             mdh_dr_std_0 = ('data_rate', 'std'),\n",
    "             mdh_dr_min_0 = ('data_rate', 'min'),\n",
    "             mdh_dr_max_0 = ('data_rate', 'max'),\n",
    "             mdh_dr_skew_0 = ('data_rate', 'skew')\n",
    "             ).reset_index()\n",
    "\n",
    "    add_data = pd.concat([mean_df, std_df], axis=1)\n",
    "\n",
    "    add_data = add_data.merge(fault_rows[['NE ID','fault_duration', 'relation', 'month', 'day', 'hour']], on=['NE ID'], how='left')\n",
    "\n",
    "    add_data = add_data.merge(rows, on='NE ID', how='left')\n",
    "    add_data = add_data.merge(difference, on='NE ID', how='left')\n",
    "    add_data = add_data.merge(difference1, on='NE ID', how='left')\n",
    "\n",
    "    add_data = add_data.merge(count_fault, on='NE ID', how='left')\n",
    "    add_data = add_data.merge(count_no_fault, on='NE ID', how='left')\n",
    "    add_data = add_data.merge(mean_fault, on='NE ID', how='left')\n",
    "    add_data = add_data.merge(std_fault, on='NE ID', how='left')\n",
    "\n",
    "    print(add_data.shape)\n",
    "\n",
    "    if is_train:\n",
    "        # Get the last 'data_rate' for each 'NE ID' from before_fault1\n",
    "        last_data_rate = before_fault1.groupby('NE ID').last()['data_rate']\n",
    "\n",
    "        # Create a dictionary for faster lookup\n",
    "        fault_data_rate_dict = fault_rows.set_index('NE ID')['data_rate'].to_dict()\n",
    "\n",
    "        # Create a labeling function based on the condition\n",
    "        def label_data(ne_id):\n",
    "          if ne_id in last_data_rate and ne_id in fault_data_rate_dict and last_data_rate[ne_id] > fault_data_rate_dict[ne_id]:\n",
    "              return 1\n",
    "          else:\n",
    "              return 0\n",
    "\n",
    "        # Apply the labeling function\n",
    "        add_data['label'] = add_data['NE ID'].apply(label_data)\n",
    "\n",
    "    # add_data = add_data.merge(fault_hour_mean, on=['day','hour'], how='left')\n",
    "    add_data = add_data.merge(fault_hour_max, on=['day','hour'], how='left')\n",
    "    add_data = add_data.merge(fault_hour_min, on=['day','hour'], how='left')\n",
    "    add_data = add_data.merge(fault_hour_std, on=['day','hour'], how='left')\n",
    "\n",
    "    # Replicate the row of mean_df for the length of df\n",
    "    replicated_df = pd.DataFrame(np.repeat(all_fault_df.values, len(add_data), axis=0), columns=all_fault_df.columns)\n",
    "\n",
    "    add_data = pd.concat([add_data, replicated_df], axis=1)\n",
    "    print(add_data.shape)\n",
    "\n",
    "\n",
    "    add_data = add_data.merge(mdh_0, left_on='hour_prev___1', right_on='hour', how='left')\n",
    "    add_data = add_data.merge(a, left_on=['hour_prev___1'], right_on=['hour'], how='left')\n",
    "    print(add_data.shape)\n",
    "\n",
    "    # Splitting the data back to train and test based on unique \"NE ID\" from test\n",
    "    test_ne_ids = test[\"NE ID\"].unique()\n",
    "    extracted_test = add_data[add_data[\"NE ID\"].isin(test_ne_ids)]\n",
    "    extracted_train = add_data[~add_data[\"NE ID\"].isin(test_ne_ids)]\n",
    "\n",
    "    return extracted_train, extracted_test"
   ]
  },
  {
   "cell_type": "code",
   "execution_count": 54,
   "metadata": {
    "colab": {
     "base_uri": "https://localhost:8080/"
    },
    "id": "HIm4uPH6a7E6",
    "outputId": "329b8eaa-0df2-4245-a710-ca034a90b03c"
   },
   "outputs": [
    {
     "name": "stdout",
     "output_type": "stream",
     "text": [
      "(9156, 50)\n",
      "(9156, 100)\n",
      "(9156, 181)\n",
      "CPU times: user 13.2 s, sys: 762 ms, total: 14 s\n",
      "Wall time: 14.3 s\n"
     ]
    }
   ],
   "source": [
    "%%time\n",
    "extracted_train, extracted_test = extract_relevant_data(train, test)"
   ]
  },
  {
   "cell_type": "code",
   "execution_count": 55,
   "metadata": {
    "colab": {
     "base_uri": "https://localhost:8080/"
    },
    "id": "PTZzBjg3a7Bh",
    "outputId": "353db30f-f16a-462c-fa51-5b9416af53e6"
   },
   "outputs": [
    {
     "data": {
      "text/plain": [
       "((7224, 181), (1932, 181))"
      ]
     },
     "execution_count": 55,
     "metadata": {},
     "output_type": "execute_result"
    }
   ],
   "source": [
    "extracted_train.shape, extracted_test.shape"
   ]
  },
  {
   "cell_type": "code",
   "execution_count": 56,
   "metadata": {
    "id": "nocnNAsdgv1S"
   },
   "outputs": [],
   "source": [
    "df = train.copy()"
   ]
  },
  {
   "cell_type": "code",
   "execution_count": 57,
   "metadata": {
    "id": "xi3SCZ-0rn08"
   },
   "outputs": [],
   "source": [
    "df[\"extracted_NE_ID\"] = df[\"NE ID\"].str.split(\"_\").str[0]"
   ]
  },
  {
   "cell_type": "code",
   "execution_count": 58,
   "metadata": {
    "id": "0mf07MP616ih"
   },
   "outputs": [],
   "source": [
    "test_copy = test.copy()"
   ]
  },
  {
   "cell_type": "code",
   "execution_count": 59,
   "metadata": {
    "id": "FEJmhZwU2BAC"
   },
   "outputs": [],
   "source": [
    "test_copy[\"extracted_NE_ID\"] = test_copy[\"NE ID\"].str.split(\"_\").str[0]"
   ]
  },
  {
   "cell_type": "code",
   "execution_count": 63,
   "metadata": {
    "id": "ALonoCi7f1wx"
   },
   "outputs": [],
   "source": [
    "def focu_on_fault(train, test):\n",
    "    test = test.drop(columns=['Unnamed: 0'])\n",
    "    group_df = pd.concat([train, test]).reset_index(drop=True)\n",
    "\n",
    "    mean_rows = group_df[group_df['fault_duration'] == 0].groupby(['extracted_NE_ID']).mean()[['access_success_rate','resource_utilition_rate','TA','bler','cqi','mcs','data_rate']].add_suffix(f\"_mean_all_fault\").reset_index()\n",
    "    std_rows = group_df[group_df['fault_duration'] == 0].groupby(['extracted_NE_ID']).std()[['access_success_rate','resource_utilition_rate','TA','bler','cqi','mcs','data_rate']].add_suffix(f\"_std_all_fault\").reset_index()\n",
    "    max_rows = group_df[group_df['fault_duration'] == 0].groupby(['extracted_NE_ID']).max()[['access_success_rate','resource_utilition_rate','TA','bler','cqi','mcs','data_rate']].add_suffix(f\"_max_all_fault\").reset_index()\n",
    "    min_rows = group_df[group_df['fault_duration'] == 0].groupby(['extracted_NE_ID']).min()[['access_success_rate','resource_utilition_rate','TA','bler','cqi','mcs','data_rate']].add_suffix(f\"_min_all_fault\").reset_index()\n",
    "    skew_rows = group_df[group_df['fault_duration'] == 0].groupby(['extracted_NE_ID']).skew()[['access_success_rate','resource_utilition_rate','TA','bler','cqi','mcs','data_rate']].add_suffix(f\"_skew_all_fault\").reset_index()\n",
    "\n",
    "    mean_fault = group_df[group_df['fault_duration'] > 0].groupby(['extracted_NE_ID']).mean()[['fault_duration']].add_suffix(f\"_mean_ne_extract_fault\").reset_index()\n",
    "    std_fault = group_df[group_df['fault_duration'] > 0].groupby(['extracted_NE_ID']).std()[['fault_duration']].add_suffix(f\"_std_ne_extract_fault\").reset_index()\n",
    "\n",
    "    fault_rows = mean_rows.merge(std_rows, on=['extracted_NE_ID'], how='left')\n",
    "    fault_rows = fault_rows.merge(max_rows, on=['extracted_NE_ID'], how='left')\n",
    "    fault_rows = fault_rows.merge(min_rows, on=['extracted_NE_ID'], how='left')\n",
    "\n",
    "    test_ne_ids = test[\"extracted_NE_ID\"].unique()\n",
    "    extracted_test = fault_rows[fault_rows[\"extracted_NE_ID\"].isin(test_ne_ids)]\n",
    "    extracted_train = fault_rows[~fault_rows[\"extracted_NE_ID\"].isin(test_ne_ids)]\n",
    "\n",
    "    print(extracted_train.shape, extracted_test.shape)\n",
    "\n",
    "    return extracted_train, extracted_test"
   ]
  },
  {
   "cell_type": "code",
   "execution_count": 64,
   "metadata": {
    "colab": {
     "base_uri": "https://localhost:8080/"
    },
    "id": "0Um8v_5a3V9D",
    "outputId": "f1677043-d422-42ed-e007-ed948a41ec95"
   },
   "outputs": [
    {
     "name": "stdout",
     "output_type": "stream",
     "text": [
      "(2861, 29) (556, 29)\n",
      "CPU times: user 5.69 s, sys: 183 ms, total: 5.87 s\n",
      "Wall time: 5.87 s\n"
     ]
    }
   ],
   "source": [
    "%%time\n",
    "tr, te = focu_on_fault(df, test_copy)"
   ]
  },
  {
   "cell_type": "code",
   "execution_count": 65,
   "metadata": {
    "id": "z84Ac2XlttHl"
   },
   "outputs": [],
   "source": [
    "extracted_train['extracted_NE_ID'] = extracted_train[\"NE ID\"].str.split(\"_\").str[0]\n",
    "extracted_test['extracted_NE_ID'] = extracted_test[\"NE ID\"].str.split(\"_\").str[0]"
   ]
  },
  {
   "cell_type": "code",
   "execution_count": 66,
   "metadata": {
    "id": "olBX-KlcydBR"
   },
   "outputs": [],
   "source": [
    "column_names = extracted_train.columns.tolist()\n",
    "column_names[column_names.index('hour_x')] = 'hour'\n",
    "extracted_train.columns = column_names"
   ]
  },
  {
   "cell_type": "code",
   "execution_count": 67,
   "metadata": {
    "id": "2K9Zz6GfzUi7"
   },
   "outputs": [],
   "source": [
    "column_names = extracted_test.columns.tolist()\n",
    "column_names[column_names.index('hour_x')] = 'hour'\n",
    "extracted_test.columns = column_names"
   ]
  },
  {
   "cell_type": "code",
   "execution_count": 68,
   "metadata": {
    "colab": {
     "base_uri": "https://localhost:8080/"
    },
    "id": "QMt8vdEJ49uL",
    "outputId": "93c3a5de-38e8-4728-8557-f97a6a35d1e2"
   },
   "outputs": [
    {
     "data": {
      "text/plain": [
       "((7224, 182), (1932, 182))"
      ]
     },
     "execution_count": 68,
     "metadata": {},
     "output_type": "execute_result"
    }
   ],
   "source": [
    "extracted_train.shape, extracted_test.shape"
   ]
  },
  {
   "cell_type": "code",
   "execution_count": 69,
   "metadata": {
    "id": "Ya29Ttn3zUeQ"
   },
   "outputs": [],
   "source": [
    "extracted_train = extracted_train.merge(tr, on='extracted_NE_ID', how='left')"
   ]
  },
  {
   "cell_type": "code",
   "execution_count": 70,
   "metadata": {
    "id": "g_82x1SA5BJ3"
   },
   "outputs": [],
   "source": [
    "extracted_test = extracted_test.merge(te, on='extracted_NE_ID', how='left')"
   ]
  },
  {
   "cell_type": "code",
   "execution_count": 71,
   "metadata": {
    "colab": {
     "base_uri": "https://localhost:8080/"
    },
    "id": "ju7Ru7YQ3q9C",
    "outputId": "78ce2fa8-c223-4446-d816-83e011557b7a"
   },
   "outputs": [
    {
     "data": {
      "text/plain": [
       "((7224, 210), (1932, 210))"
      ]
     },
     "execution_count": 71,
     "metadata": {},
     "output_type": "execute_result"
    }
   ],
   "source": [
    "extracted_train.shape, extracted_test.shape"
   ]
  },
  {
   "cell_type": "code",
   "execution_count": 72,
   "metadata": {
    "colab": {
     "base_uri": "https://localhost:8080/",
     "height": 342
    },
    "id": "IpFEdPpz_8Pe",
    "outputId": "927069aa-5ec6-46b3-dd2d-e0088cb77779"
   },
   "outputs": [
    {
     "data": {
      "text/html": [
       "\n",
       "  <div id=\"df-e15d847f-1a27-4d23-aa27-a231d19c0b56\" class=\"colab-df-container\">\n",
       "    <div>\n",
       "<style scoped>\n",
       "    .dataframe tbody tr th:only-of-type {\n",
       "        vertical-align: middle;\n",
       "    }\n",
       "\n",
       "    .dataframe tbody tr th {\n",
       "        vertical-align: top;\n",
       "    }\n",
       "\n",
       "    .dataframe thead th {\n",
       "        text-align: right;\n",
       "    }\n",
       "</style>\n",
       "<table border=\"1\" class=\"dataframe\">\n",
       "  <thead>\n",
       "    <tr style=\"text-align: right;\">\n",
       "      <th></th>\n",
       "      <th>NE ID</th>\n",
       "      <th>mean_access_success_rate</th>\n",
       "      <th>mean_resource_utilition_rate</th>\n",
       "      <th>mean_TA</th>\n",
       "      <th>mean_bler</th>\n",
       "      <th>mean_cqi</th>\n",
       "      <th>mean_mcs</th>\n",
       "      <th>mean_data_rate</th>\n",
       "      <th>mean_weekday</th>\n",
       "      <th>mean_is_weekend</th>\n",
       "      <th>...</th>\n",
       "      <th>cqi_max_all_fault</th>\n",
       "      <th>mcs_max_all_fault</th>\n",
       "      <th>data_rate_max_all_fault</th>\n",
       "      <th>access_success_rate_min_all_fault</th>\n",
       "      <th>resource_utilition_rate_min_all_fault</th>\n",
       "      <th>TA_min_all_fault</th>\n",
       "      <th>bler_min_all_fault</th>\n",
       "      <th>cqi_min_all_fault</th>\n",
       "      <th>mcs_min_all_fault</th>\n",
       "      <th>data_rate_min_all_fault</th>\n",
       "    </tr>\n",
       "  </thead>\n",
       "  <tbody>\n",
       "    <tr>\n",
       "      <th>0</th>\n",
       "      <td>B0017-25_24</td>\n",
       "      <td>99.666576</td>\n",
       "      <td>38.982000</td>\n",
       "      <td>3.261393</td>\n",
       "      <td>10.626261</td>\n",
       "      <td>5.896339</td>\n",
       "      <td>5.871992</td>\n",
       "      <td>4.922731</td>\n",
       "      <td>0.000000</td>\n",
       "      <td>0.000000</td>\n",
       "      <td>...</td>\n",
       "      <td>6.302236</td>\n",
       "      <td>8.301610</td>\n",
       "      <td>10.963935</td>\n",
       "      <td>88.532371</td>\n",
       "      <td>5.724</td>\n",
       "      <td>2.686268</td>\n",
       "      <td>6.555953</td>\n",
       "      <td>5.106033</td>\n",
       "      <td>4.121271</td>\n",
       "      <td>0.432873</td>\n",
       "    </tr>\n",
       "    <tr>\n",
       "      <th>1</th>\n",
       "      <td>B0017-25_25</td>\n",
       "      <td>99.453582</td>\n",
       "      <td>92.664000</td>\n",
       "      <td>2.804900</td>\n",
       "      <td>16.015768</td>\n",
       "      <td>5.552038</td>\n",
       "      <td>4.885502</td>\n",
       "      <td>0.744580</td>\n",
       "      <td>0.000000</td>\n",
       "      <td>0.000000</td>\n",
       "      <td>...</td>\n",
       "      <td>6.302236</td>\n",
       "      <td>8.301610</td>\n",
       "      <td>10.963935</td>\n",
       "      <td>88.532371</td>\n",
       "      <td>5.724</td>\n",
       "      <td>2.686268</td>\n",
       "      <td>6.555953</td>\n",
       "      <td>5.106033</td>\n",
       "      <td>4.121271</td>\n",
       "      <td>0.432873</td>\n",
       "    </tr>\n",
       "    <tr>\n",
       "      <th>2</th>\n",
       "      <td>B0017-25_26</td>\n",
       "      <td>99.546228</td>\n",
       "      <td>80.028000</td>\n",
       "      <td>3.151677</td>\n",
       "      <td>13.437244</td>\n",
       "      <td>5.226969</td>\n",
       "      <td>4.896700</td>\n",
       "      <td>1.561278</td>\n",
       "      <td>0.000000</td>\n",
       "      <td>0.000000</td>\n",
       "      <td>...</td>\n",
       "      <td>6.302236</td>\n",
       "      <td>8.301610</td>\n",
       "      <td>10.963935</td>\n",
       "      <td>88.532371</td>\n",
       "      <td>5.724</td>\n",
       "      <td>2.686268</td>\n",
       "      <td>6.555953</td>\n",
       "      <td>5.106033</td>\n",
       "      <td>4.121271</td>\n",
       "      <td>0.432873</td>\n",
       "    </tr>\n",
       "    <tr>\n",
       "      <th>3</th>\n",
       "      <td>B0017-25_27</td>\n",
       "      <td>NaN</td>\n",
       "      <td>10.956667</td>\n",
       "      <td>3.687649</td>\n",
       "      <td>9.319546</td>\n",
       "      <td>5.836830</td>\n",
       "      <td>6.715879</td>\n",
       "      <td>7.253831</td>\n",
       "      <td>1.000000</td>\n",
       "      <td>0.000000</td>\n",
       "      <td>...</td>\n",
       "      <td>6.302236</td>\n",
       "      <td>8.301610</td>\n",
       "      <td>10.963935</td>\n",
       "      <td>88.532371</td>\n",
       "      <td>5.724</td>\n",
       "      <td>2.686268</td>\n",
       "      <td>6.555953</td>\n",
       "      <td>5.106033</td>\n",
       "      <td>4.121271</td>\n",
       "      <td>0.432873</td>\n",
       "    </tr>\n",
       "    <tr>\n",
       "      <th>4</th>\n",
       "      <td>B0017-32_1</td>\n",
       "      <td>99.721841</td>\n",
       "      <td>55.918492</td>\n",
       "      <td>2.830446</td>\n",
       "      <td>11.975014</td>\n",
       "      <td>6.267658</td>\n",
       "      <td>6.942147</td>\n",
       "      <td>6.438656</td>\n",
       "      <td>3.348485</td>\n",
       "      <td>0.363636</td>\n",
       "      <td>...</td>\n",
       "      <td>6.883596</td>\n",
       "      <td>11.207832</td>\n",
       "      <td>28.727142</td>\n",
       "      <td>90.738835</td>\n",
       "      <td>6.110</td>\n",
       "      <td>2.512474</td>\n",
       "      <td>6.976157</td>\n",
       "      <td>5.583631</td>\n",
       "      <td>4.093645</td>\n",
       "      <td>0.703845</td>\n",
       "    </tr>\n",
       "  </tbody>\n",
       "</table>\n",
       "<p>5 rows × 210 columns</p>\n",
       "</div>\n",
       "    <div class=\"colab-df-buttons\">\n",
       "\n",
       "  <div class=\"colab-df-container\">\n",
       "    <button class=\"colab-df-convert\" onclick=\"convertToInteractive('df-e15d847f-1a27-4d23-aa27-a231d19c0b56')\"\n",
       "            title=\"Convert this dataframe to an interactive table.\"\n",
       "            style=\"display:none;\">\n",
       "\n",
       "  <svg xmlns=\"http://www.w3.org/2000/svg\" height=\"24px\" viewBox=\"0 -960 960 960\">\n",
       "    <path d=\"M120-120v-720h720v720H120Zm60-500h600v-160H180v160Zm220 220h160v-160H400v160Zm0 220h160v-160H400v160ZM180-400h160v-160H180v160Zm440 0h160v-160H620v160ZM180-180h160v-160H180v160Zm440 0h160v-160H620v160Z\"/>\n",
       "  </svg>\n",
       "    </button>\n",
       "\n",
       "  <style>\n",
       "    .colab-df-container {\n",
       "      display:flex;\n",
       "      gap: 12px;\n",
       "    }\n",
       "\n",
       "    .colab-df-convert {\n",
       "      background-color: #E8F0FE;\n",
       "      border: none;\n",
       "      border-radius: 50%;\n",
       "      cursor: pointer;\n",
       "      display: none;\n",
       "      fill: #1967D2;\n",
       "      height: 32px;\n",
       "      padding: 0 0 0 0;\n",
       "      width: 32px;\n",
       "    }\n",
       "\n",
       "    .colab-df-convert:hover {\n",
       "      background-color: #E2EBFA;\n",
       "      box-shadow: 0px 1px 2px rgba(60, 64, 67, 0.3), 0px 1px 3px 1px rgba(60, 64, 67, 0.15);\n",
       "      fill: #174EA6;\n",
       "    }\n",
       "\n",
       "    .colab-df-buttons div {\n",
       "      margin-bottom: 4px;\n",
       "    }\n",
       "\n",
       "    [theme=dark] .colab-df-convert {\n",
       "      background-color: #3B4455;\n",
       "      fill: #D2E3FC;\n",
       "    }\n",
       "\n",
       "    [theme=dark] .colab-df-convert:hover {\n",
       "      background-color: #434B5C;\n",
       "      box-shadow: 0px 1px 3px 1px rgba(0, 0, 0, 0.15);\n",
       "      filter: drop-shadow(0px 1px 2px rgba(0, 0, 0, 0.3));\n",
       "      fill: #FFFFFF;\n",
       "    }\n",
       "  </style>\n",
       "\n",
       "    <script>\n",
       "      const buttonEl =\n",
       "        document.querySelector('#df-e15d847f-1a27-4d23-aa27-a231d19c0b56 button.colab-df-convert');\n",
       "      buttonEl.style.display =\n",
       "        google.colab.kernel.accessAllowed ? 'block' : 'none';\n",
       "\n",
       "      async function convertToInteractive(key) {\n",
       "        const element = document.querySelector('#df-e15d847f-1a27-4d23-aa27-a231d19c0b56');\n",
       "        const dataTable =\n",
       "          await google.colab.kernel.invokeFunction('convertToInteractive',\n",
       "                                                    [key], {});\n",
       "        if (!dataTable) return;\n",
       "\n",
       "        const docLinkHtml = 'Like what you see? Visit the ' +\n",
       "          '<a target=\"_blank\" href=https://colab.research.google.com/notebooks/data_table.ipynb>data table notebook</a>'\n",
       "          + ' to learn more about interactive tables.';\n",
       "        element.innerHTML = '';\n",
       "        dataTable['output_type'] = 'display_data';\n",
       "        await google.colab.output.renderOutput(dataTable, element);\n",
       "        const docLink = document.createElement('div');\n",
       "        docLink.innerHTML = docLinkHtml;\n",
       "        element.appendChild(docLink);\n",
       "      }\n",
       "    </script>\n",
       "  </div>\n",
       "\n",
       "\n",
       "<div id=\"df-c5db7c2b-c81c-4ff8-908b-77dcaa371f9d\">\n",
       "  <button class=\"colab-df-quickchart\" onclick=\"quickchart('df-c5db7c2b-c81c-4ff8-908b-77dcaa371f9d')\"\n",
       "            title=\"Suggest charts.\"\n",
       "            style=\"display:none;\">\n",
       "\n",
       "<svg xmlns=\"http://www.w3.org/2000/svg\" height=\"24px\"viewBox=\"0 0 24 24\"\n",
       "     width=\"24px\">\n",
       "    <g>\n",
       "        <path d=\"M19 3H5c-1.1 0-2 .9-2 2v14c0 1.1.9 2 2 2h14c1.1 0 2-.9 2-2V5c0-1.1-.9-2-2-2zM9 17H7v-7h2v7zm4 0h-2V7h2v10zm4 0h-2v-4h2v4z\"/>\n",
       "    </g>\n",
       "</svg>\n",
       "  </button>\n",
       "\n",
       "<style>\n",
       "  .colab-df-quickchart {\n",
       "    background-color: #E8F0FE;\n",
       "    border: none;\n",
       "    border-radius: 50%;\n",
       "    cursor: pointer;\n",
       "    display: none;\n",
       "    fill: #1967D2;\n",
       "    height: 32px;\n",
       "    padding: 0 0 0 0;\n",
       "    width: 32px;\n",
       "  }\n",
       "\n",
       "  .colab-df-quickchart:hover {\n",
       "    background-color: #E2EBFA;\n",
       "    box-shadow: 0px 1px 2px rgba(60, 64, 67, 0.3), 0px 1px 3px 1px rgba(60, 64, 67, 0.15);\n",
       "    fill: #174EA6;\n",
       "  }\n",
       "\n",
       "  [theme=dark] .colab-df-quickchart {\n",
       "    background-color: #3B4455;\n",
       "    fill: #D2E3FC;\n",
       "  }\n",
       "\n",
       "  [theme=dark] .colab-df-quickchart:hover {\n",
       "    background-color: #434B5C;\n",
       "    box-shadow: 0px 1px 3px 1px rgba(0, 0, 0, 0.15);\n",
       "    filter: drop-shadow(0px 1px 2px rgba(0, 0, 0, 0.3));\n",
       "    fill: #FFFFFF;\n",
       "  }\n",
       "</style>\n",
       "\n",
       "  <script>\n",
       "    async function quickchart(key) {\n",
       "      const charts = await google.colab.kernel.invokeFunction(\n",
       "          'suggestCharts', [key], {});\n",
       "    }\n",
       "    (() => {\n",
       "      let quickchartButtonEl =\n",
       "        document.querySelector('#df-c5db7c2b-c81c-4ff8-908b-77dcaa371f9d button');\n",
       "      quickchartButtonEl.style.display =\n",
       "        google.colab.kernel.accessAllowed ? 'block' : 'none';\n",
       "    })();\n",
       "  </script>\n",
       "</div>\n",
       "    </div>\n",
       "  </div>\n"
      ],
      "text/plain": [
       "         NE ID  mean_access_success_rate  mean_resource_utilition_rate  \\\n",
       "0  B0017-25_24                 99.666576                     38.982000   \n",
       "1  B0017-25_25                 99.453582                     92.664000   \n",
       "2  B0017-25_26                 99.546228                     80.028000   \n",
       "3  B0017-25_27                       NaN                     10.956667   \n",
       "4   B0017-32_1                 99.721841                     55.918492   \n",
       "\n",
       "    mean_TA  mean_bler  mean_cqi  mean_mcs  mean_data_rate  mean_weekday  \\\n",
       "0  3.261393  10.626261  5.896339  5.871992        4.922731      0.000000   \n",
       "1  2.804900  16.015768  5.552038  4.885502        0.744580      0.000000   \n",
       "2  3.151677  13.437244  5.226969  4.896700        1.561278      0.000000   \n",
       "3  3.687649   9.319546  5.836830  6.715879        7.253831      1.000000   \n",
       "4  2.830446  11.975014  6.267658  6.942147        6.438656      3.348485   \n",
       "\n",
       "   mean_is_weekend  ...  cqi_max_all_fault  mcs_max_all_fault  \\\n",
       "0         0.000000  ...           6.302236           8.301610   \n",
       "1         0.000000  ...           6.302236           8.301610   \n",
       "2         0.000000  ...           6.302236           8.301610   \n",
       "3         0.000000  ...           6.302236           8.301610   \n",
       "4         0.363636  ...           6.883596          11.207832   \n",
       "\n",
       "   data_rate_max_all_fault  access_success_rate_min_all_fault  \\\n",
       "0                10.963935                          88.532371   \n",
       "1                10.963935                          88.532371   \n",
       "2                10.963935                          88.532371   \n",
       "3                10.963935                          88.532371   \n",
       "4                28.727142                          90.738835   \n",
       "\n",
       "   resource_utilition_rate_min_all_fault  TA_min_all_fault  \\\n",
       "0                                  5.724          2.686268   \n",
       "1                                  5.724          2.686268   \n",
       "2                                  5.724          2.686268   \n",
       "3                                  5.724          2.686268   \n",
       "4                                  6.110          2.512474   \n",
       "\n",
       "   bler_min_all_fault  cqi_min_all_fault  mcs_min_all_fault  \\\n",
       "0            6.555953           5.106033           4.121271   \n",
       "1            6.555953           5.106033           4.121271   \n",
       "2            6.555953           5.106033           4.121271   \n",
       "3            6.555953           5.106033           4.121271   \n",
       "4            6.976157           5.583631           4.093645   \n",
       "\n",
       "   data_rate_min_all_fault  \n",
       "0                 0.432873  \n",
       "1                 0.432873  \n",
       "2                 0.432873  \n",
       "3                 0.432873  \n",
       "4                 0.703845  \n",
       "\n",
       "[5 rows x 210 columns]"
      ]
     },
     "execution_count": 72,
     "metadata": {},
     "output_type": "execute_result"
    }
   ],
   "source": [
    "extracted_test.head()"
   ]
  },
  {
   "cell_type": "code",
   "execution_count": 73,
   "metadata": {
    "colab": {
     "base_uri": "https://localhost:8080/"
    },
    "id": "fAffexPya6-R",
    "outputId": "55a9bb0f-4be0-4925-afd8-2b0e5fb13346"
   },
   "outputs": [
    {
     "data": {
      "text/plain": [
       "0    3657\n",
       "1    3567\n",
       "Name: label, dtype: int64"
      ]
     },
     "execution_count": 73,
     "metadata": {},
     "output_type": "execute_result"
    }
   ],
   "source": [
    "extracted_train['label'].value_counts()"
   ]
  },
  {
   "cell_type": "code",
   "execution_count": 74,
   "metadata": {
    "id": "5LMkyNFBa63o"
   },
   "outputs": [],
   "source": [
    "X = extracted_train.drop(columns=['NE ID','label','extracted_NE_ID'])\n",
    "y = extracted_train['label']\n",
    "tes = extracted_test.drop(columns=['NE ID','label','extracted_NE_ID'])"
   ]
  },
  {
   "cell_type": "code",
   "execution_count": 75,
   "metadata": {
    "id": "CCeOzssvFq26"
   },
   "outputs": [],
   "source": [
    "def identify_correlated(df, threshold):\n",
    "    corr_matrix = df.corr().abs()\n",
    "    mask = np.triu(np.ones_like(corr_matrix, dtype=bool))\n",
    "    reduced_corr_matrix = corr_matrix.mask(mask)\n",
    "    features_to_drop = [c for c in reduced_corr_matrix.columns if any(reduced_corr_matrix[c] > threshold)]\n",
    "    return features_to_drop"
   ]
  },
  {
   "cell_type": "code",
   "execution_count": 76,
   "metadata": {
    "colab": {
     "base_uri": "https://localhost:8080/"
    },
    "id": "eNtyBm3lFq0G",
    "outputId": "88dfcc65-0f38-49e2-aa03-31db252045f3"
   },
   "outputs": [
    {
     "name": "stdout",
     "output_type": "stream",
     "text": [
      "CPU times: user 1.19 s, sys: 0 ns, total: 1.19 s\n",
      "Wall time: 1.22 s\n"
     ]
    }
   ],
   "source": [
    "%%time\n",
    "features_to_drop1 = identify_correlated(X, .99)"
   ]
  },
  {
   "cell_type": "code",
   "execution_count": 77,
   "metadata": {
    "colab": {
     "base_uri": "https://localhost:8080/"
    },
    "id": "blCaQkQAFqxG",
    "outputId": "417c2527-7611-4c0e-dbe3-af33da39a322"
   },
   "outputs": [
    {
     "data": {
      "text/plain": [
       "19"
      ]
     },
     "execution_count": 77,
     "metadata": {},
     "output_type": "execute_result"
    }
   ],
   "source": [
    "len(features_to_drop1)"
   ]
  },
  {
   "cell_type": "code",
   "execution_count": 78,
   "metadata": {
    "id": "m4sbF0Qla6ue"
   },
   "outputs": [],
   "source": [
    "lgb_params = {'num_leaves': 150,\n",
    " 'max_depth': -1,\n",
    " 'learning_rate': 0.01,\n",
    " 'min_split_gain': 0.24664278438096177,\n",
    " 'min_child_samples': 6,\n",
    " 'min_child_weight': 0.009893701073314746,\n",
    " 'subsample': 0.7922433830062748,\n",
    " 'colsample_bytree': 0.7702871526306962,\n",
    " 'reg_alpha': 5.989782196924695,\n",
    " 'reg_lambda': 9.450977321771916,\n",
    " 'random_state': 42,\n",
    " 'n_estimators': 5000}"
   ]
  },
  {
   "cell_type": "code",
   "execution_count": 79,
   "metadata": {
    "id": "BymdZTgca6rJ"
   },
   "outputs": [],
   "source": [
    "def remove_duplicate_columns(df):\n",
    "    df = df.loc[:, ~df.columns.duplicated(keep='first')]\n",
    "    return df"
   ]
  },
  {
   "cell_type": "code",
   "execution_count": 80,
   "metadata": {
    "id": "ToEW8CWRa6oJ"
   },
   "outputs": [],
   "source": [
    "X = remove_duplicate_columns(X)\n",
    "tes = remove_duplicate_columns(tes)"
   ]
  },
  {
   "cell_type": "code",
   "execution_count": 81,
   "metadata": {
    "colab": {
     "base_uri": "https://localhost:8080/"
    },
    "id": "2zl_DHS8a6lY",
    "outputId": "583db127-8c0b-40be-c53b-a9941e40c377"
   },
   "outputs": [
    {
     "name": "stdout",
     "output_type": "stream",
     "text": [
      "\n",
      "Fold 1 Val score: 0.7210884353741497\n",
      "\n",
      "\n",
      "Fold 2 Val score: 0.7357630979498861\n",
      "\n",
      "\n",
      "Fold 3 Val score: 0.6977777777777777\n",
      "\n",
      "\n",
      "Fold 4 Val score: 0.7254237288135594\n",
      "\n",
      "\n",
      "Fold 5 Val score: 0.7149321266968327\n",
      "\n",
      "\n",
      "Fold 6 Val score: 0.706145251396648\n",
      "\n",
      "\n",
      "Fold 7 Val score: 0.7138193688792166\n",
      "\n",
      "\n",
      "Fold 8 Val score: 0.7285067873303168\n",
      "\n",
      "\n",
      "Fold 9 Val score: 0.7248322147651007\n",
      "\n",
      "\n",
      "Fold 10 Val score: 0.709750566893424\n",
      "\n",
      "\n",
      "OOF F1 score is : 0.7177355947433449\n",
      "CPU times: user 6min 43s, sys: 2.53 s, total: 6min 46s\n",
      "Wall time: 4min 4s\n"
     ]
    }
   ],
   "source": [
    "%%time\n",
    "from sklearn.ensemble import RandomForestClassifier\n",
    "from collections import Counter\n",
    "import lightgbm as lgb\n",
    "from sklearn.model_selection import StratifiedKFold, KFold, GroupKFold\n",
    "import numpy as np\n",
    "from sklearn.metrics import f1_score\n",
    "\n",
    "\n",
    "# Initialize the model as XGBRegressor with 500 trees\n",
    "model = lgb.LGBMClassifier(**lgb_params)\n",
    "\n",
    "# Define the number of folds for the KFold cross-validation\n",
    "n_folds = 10\n",
    "\n",
    "# Create an instance of KFold with 5 splits, shuffled, and with random_state set to 1235\n",
    "kf = StratifiedKFold(n_splits=n_folds, shuffle=True, random_state=1235)\n",
    "\n",
    "# Create arrays to store the out-of-fold and prediction values\n",
    "oofs = np.zeros((len(X)))\n",
    "oofs1 = np.zeros((len(X)))\n",
    "preds = np.zeros((len(tes)))\n",
    "\n",
    "# Iterate over the folds\n",
    "for fold, (train_index, test_index) in enumerate(kf.split(X, y)):\n",
    "    # Split the data into training and testing sets for this fold\n",
    "    X_train, X_test = X.iloc[train_index], X.iloc[test_index]\n",
    "    y_train, y_test = y.iloc[train_index], y.iloc[test_index]\n",
    "\n",
    "    # Fit the model on the training data\n",
    "    model.fit(X_train, y_train, eval_set = [(X_test, y_test)],verbose=0, early_stopping_rounds=100)\n",
    "\n",
    "    # Predict on the validation set\n",
    "    vp2 = model.predict_proba(X_test)[:,1]\n",
    "    vp = model.predict_proba(X_test)\n",
    "    vp1 = (vp[:, 1] >= 0.35).astype('int')\n",
    "\n",
    "    # Calculate the validation score as the root mean squared error between the true values and predictions\n",
    "    val_score = f1_score((y_test), (vp1))\n",
    "    print(f'\\nFold {fold+1} Val score: {val_score}\\n')\n",
    "\n",
    "    # Predict on the test set\n",
    "    tp = model.predict_proba(tes)[:, 1]\n",
    "\n",
    "    # Store the validation predictions in the oofs array\n",
    "    oofs[test_index] = vp1\n",
    "    oofs1[test_index] = vp2\n",
    "    # Average the predictions over the 5 folds and store in the preds array\n",
    "    preds += tp/n_folds\n",
    "\n",
    "# Calculate the out-of-fold score as the root mean squared error between the true values and predictions\n",
    "oof_score = f1_score((y), (oofs))\n",
    "print(f'\\nOOF F1 score is : {oof_score}')"
   ]
  },
  {
   "cell_type": "code",
   "execution_count": 82,
   "metadata": {
    "colab": {
     "base_uri": "https://localhost:8080/",
     "height": 469
    },
    "id": "zpJVfoFha6W1",
    "outputId": "9be2851c-94a8-4003-d273-dfcb3aa16d94"
   },
   "outputs": [
    {
     "data": {
      "image/png": "[encoded data removed]",
      "text/plain": [
       "<Figure size 2000x1000 with 1 Axes>"
      ]
     },
     "metadata": {},
     "output_type": "display_data"
    }
   ],
   "source": [
    "fea_imp = pd.DataFrame({'imp':model.feature_importances_, 'col': X.columns})\n",
    "fea_imp = fea_imp.sort_values(['imp', 'col'], ascending=[True, False]).iloc[-20:]\n",
    "_ = fea_imp.plot(kind='barh', x='col', y='imp', figsize=(20, 10))"
   ]
  },
  {
   "cell_type": "code",
   "execution_count": 104,
   "metadata": {
    "id": "0YZYhspxa5ut"
   },
   "outputs": [],
   "source": [
    "d = {'ID':extracted_test['NE ID'], 'data_rate_t+1_trend':preds}\n",
    "submit = pd.DataFrame(d)"
   ]
  },
  {
   "cell_type": "code",
   "execution_count": 105,
   "metadata": {
    "colab": {
     "base_uri": "https://localhost:8080/",
     "height": 206
    },
    "id": "NsLtb88Ooyr6",
    "outputId": "3b6a5556-3a55-40cb-bca2-5d997cf931dd"
   },
   "outputs": [
    {
     "data": {
      "text/html": [
       "\n",
       "  <div id=\"df-c9a61fc9-747b-498f-af56-b59f28ad89ac\" class=\"colab-df-container\">\n",
       "    <div>\n",
       "<style scoped>\n",
       "    .dataframe tbody tr th:only-of-type {\n",
       "        vertical-align: middle;\n",
       "    }\n",
       "\n",
       "    .dataframe tbody tr th {\n",
       "        vertical-align: top;\n",
       "    }\n",
       "\n",
       "    .dataframe thead th {\n",
       "        text-align: right;\n",
       "    }\n",
       "</style>\n",
       "<table border=\"1\" class=\"dataframe\">\n",
       "  <thead>\n",
       "    <tr style=\"text-align: right;\">\n",
       "      <th></th>\n",
       "      <th>ID</th>\n",
       "      <th>data_rate_t+1_trend</th>\n",
       "    </tr>\n",
       "  </thead>\n",
       "  <tbody>\n",
       "    <tr>\n",
       "      <th>0</th>\n",
       "      <td>B0017-25_24</td>\n",
       "      <td>0.483329</td>\n",
       "    </tr>\n",
       "    <tr>\n",
       "      <th>1</th>\n",
       "      <td>B0017-25_25</td>\n",
       "      <td>0.183968</td>\n",
       "    </tr>\n",
       "    <tr>\n",
       "      <th>2</th>\n",
       "      <td>B0017-25_26</td>\n",
       "      <td>0.172498</td>\n",
       "    </tr>\n",
       "    <tr>\n",
       "      <th>3</th>\n",
       "      <td>B0017-25_27</td>\n",
       "      <td>0.714519</td>\n",
       "    </tr>\n",
       "    <tr>\n",
       "      <th>4</th>\n",
       "      <td>B0017-32_1</td>\n",
       "      <td>0.709722</td>\n",
       "    </tr>\n",
       "  </tbody>\n",
       "</table>\n",
       "</div>\n",
       "    <div class=\"colab-df-buttons\">\n",
       "\n",
       "  <div class=\"colab-df-container\">\n",
       "    <button class=\"colab-df-convert\" onclick=\"convertToInteractive('df-c9a61fc9-747b-498f-af56-b59f28ad89ac')\"\n",
       "            title=\"Convert this dataframe to an interactive table.\"\n",
       "            style=\"display:none;\">\n",
       "\n",
       "  <svg xmlns=\"http://www.w3.org/2000/svg\" height=\"24px\" viewBox=\"0 -960 960 960\">\n",
       "    <path d=\"M120-120v-720h720v720H120Zm60-500h600v-160H180v160Zm220 220h160v-160H400v160Zm0 220h160v-160H400v160ZM180-400h160v-160H180v160Zm440 0h160v-160H620v160ZM180-180h160v-160H180v160Zm440 0h160v-160H620v160Z\"/>\n",
       "  </svg>\n",
       "    </button>\n",
       "\n",
       "  <style>\n",
       "    .colab-df-container {\n",
       "      display:flex;\n",
       "      gap: 12px;\n",
       "    }\n",
       "\n",
       "    .colab-df-convert {\n",
       "      background-color: #E8F0FE;\n",
       "      border: none;\n",
       "      border-radius: 50%;\n",
       "      cursor: pointer;\n",
       "      display: none;\n",
       "      fill: #1967D2;\n",
       "      height: 32px;\n",
       "      padding: 0 0 0 0;\n",
       "      width: 32px;\n",
       "    }\n",
       "\n",
       "    .colab-df-convert:hover {\n",
       "      background-color: #E2EBFA;\n",
       "      box-shadow: 0px 1px 2px rgba(60, 64, 67, 0.3), 0px 1px 3px 1px rgba(60, 64, 67, 0.15);\n",
       "      fill: #174EA6;\n",
       "    }\n",
       "\n",
       "    .colab-df-buttons div {\n",
       "      margin-bottom: 4px;\n",
       "    }\n",
       "\n",
       "    [theme=dark] .colab-df-convert {\n",
       "      background-color: #3B4455;\n",
       "      fill: #D2E3FC;\n",
       "    }\n",
       "\n",
       "    [theme=dark] .colab-df-convert:hover {\n",
       "      background-color: #434B5C;\n",
       "      box-shadow: 0px 1px 3px 1px rgba(0, 0, 0, 0.15);\n",
       "      filter: drop-shadow(0px 1px 2px rgba(0, 0, 0, 0.3));\n",
       "      fill: #FFFFFF;\n",
       "    }\n",
       "  </style>\n",
       "\n",
       "    <script>\n",
       "      const buttonEl =\n",
       "        document.querySelector('#df-c9a61fc9-747b-498f-af56-b59f28ad89ac button.colab-df-convert');\n",
       "      buttonEl.style.display =\n",
       "        google.colab.kernel.accessAllowed ? 'block' : 'none';\n",
       "\n",
       "      async function convertToInteractive(key) {\n",
       "        const element = document.querySelector('#df-c9a61fc9-747b-498f-af56-b59f28ad89ac');\n",
       "        const dataTable =\n",
       "          await google.colab.kernel.invokeFunction('convertToInteractive',\n",
       "                                                    [key], {});\n",
       "        if (!dataTable) return;\n",
       "\n",
       "        const docLinkHtml = 'Like what you see? Visit the ' +\n",
       "          '<a target=\"_blank\" href=https://colab.research.google.com/notebooks/data_table.ipynb>data table notebook</a>'\n",
       "          + ' to learn more about interactive tables.';\n",
       "        element.innerHTML = '';\n",
       "        dataTable['output_type'] = 'display_data';\n",
       "        await google.colab.output.renderOutput(dataTable, element);\n",
       "        const docLink = document.createElement('div');\n",
       "        docLink.innerHTML = docLinkHtml;\n",
       "        element.appendChild(docLink);\n",
       "      }\n",
       "    </script>\n",
       "  </div>\n",
       "\n",
       "\n",
       "<div id=\"df-b82ce290-81c0-47d1-9335-55dbe9b10e64\">\n",
       "  <button class=\"colab-df-quickchart\" onclick=\"quickchart('df-b82ce290-81c0-47d1-9335-55dbe9b10e64')\"\n",
       "            title=\"Suggest charts.\"\n",
       "            style=\"display:none;\">\n",
       "\n",
       "<svg xmlns=\"http://www.w3.org/2000/svg\" height=\"24px\"viewBox=\"0 0 24 24\"\n",
       "     width=\"24px\">\n",
       "    <g>\n",
       "        <path d=\"M19 3H5c-1.1 0-2 .9-2 2v14c0 1.1.9 2 2 2h14c1.1 0 2-.9 2-2V5c0-1.1-.9-2-2-2zM9 17H7v-7h2v7zm4 0h-2V7h2v10zm4 0h-2v-4h2v4z\"/>\n",
       "    </g>\n",
       "</svg>\n",
       "  </button>\n",
       "\n",
       "<style>\n",
       "  .colab-df-quickchart {\n",
       "    background-color: #E8F0FE;\n",
       "    border: none;\n",
       "    border-radius: 50%;\n",
       "    cursor: pointer;\n",
       "    display: none;\n",
       "    fill: #1967D2;\n",
       "    height: 32px;\n",
       "    padding: 0 0 0 0;\n",
       "    width: 32px;\n",
       "  }\n",
       "\n",
       "  .colab-df-quickchart:hover {\n",
       "    background-color: #E2EBFA;\n",
       "    box-shadow: 0px 1px 2px rgba(60, 64, 67, 0.3), 0px 1px 3px 1px rgba(60, 64, 67, 0.15);\n",
       "    fill: #174EA6;\n",
       "  }\n",
       "\n",
       "  [theme=dark] .colab-df-quickchart {\n",
       "    background-color: #3B4455;\n",
       "    fill: #D2E3FC;\n",
       "  }\n",
       "\n",
       "  [theme=dark] .colab-df-quickchart:hover {\n",
       "    background-color: #434B5C;\n",
       "    box-shadow: 0px 1px 3px 1px rgba(0, 0, 0, 0.15);\n",
       "    filter: drop-shadow(0px 1px 2px rgba(0, 0, 0, 0.3));\n",
       "    fill: #FFFFFF;\n",
       "  }\n",
       "</style>\n",
       "\n",
       "  <script>\n",
       "    async function quickchart(key) {\n",
       "      const charts = await google.colab.kernel.invokeFunction(\n",
       "          'suggestCharts', [key], {});\n",
       "    }\n",
       "    (() => {\n",
       "      let quickchartButtonEl =\n",
       "        document.querySelector('#df-b82ce290-81c0-47d1-9335-55dbe9b10e64 button');\n",
       "      quickchartButtonEl.style.display =\n",
       "        google.colab.kernel.accessAllowed ? 'block' : 'none';\n",
       "    })();\n",
       "  </script>\n",
       "</div>\n",
       "    </div>\n",
       "  </div>\n"
      ],
      "text/plain": [
       "            ID  data_rate_t+1_trend\n",
       "0  B0017-25_24             0.483329\n",
       "1  B0017-25_25             0.183968\n",
       "2  B0017-25_26             0.172498\n",
       "3  B0017-25_27             0.714519\n",
       "4   B0017-32_1             0.709722"
      ]
     },
     "execution_count": 105,
     "metadata": {},
     "output_type": "execute_result"
    }
   ],
   "source": [
    "submit.head()"
   ]
  },
  {
   "cell_type": "code",
   "execution_count": 106,
   "metadata": {
    "id": "URhUesbNo1pe"
   },
   "outputs": [],
   "source": [
    "submit['data_rate_t+1_trend'] = np.where(submit['data_rate_t+1_trend'] >= 0.37, 1, 0)"
   ]
  },
  {
   "cell_type": "code",
   "execution_count": 107,
   "metadata": {
    "colab": {
     "base_uri": "https://localhost:8080/"
    },
    "id": "18ueqqrPo9UJ",
    "outputId": "4068d996-8c33-4764-b1ac-185344741d54"
   },
   "outputs": [
    {
     "data": {
      "text/plain": [
       "1    0.701863\n",
       "0    0.298137\n",
       "Name: data_rate_t+1_trend, dtype: float64"
      ]
     },
     "execution_count": 107,
     "metadata": {},
     "output_type": "execute_result"
    }
   ],
   "source": [
    "submit['data_rate_t+1_trend'].value_counts(1)"
   ]
  },
  {
   "cell_type": "code",
   "execution_count": 109,
   "metadata": {
    "id": "9isbMU05pBIT"
   },
   "outputs": [],
   "source": [
    "submit.to_csv('stake007.csv', index=False)"
   ]
  },
  {
   "cell_type": "code",
   "execution_count": null,
   "metadata": {
    "id": "iQDZAnNclcBc"
   },
   "outputs": [],
   "source": []
  }
 ],
 "metadata": {
  "colab": {
   "provenance": []
  },
  "kernelspec": {
   "display_name": "Python 3 (ipykernel)",
   "language": "python",
   "name": "python3"
  },
  "language_info": {
   "codemirror_mode": {
    "name": "ipython",
    "version": 3
   },
   "file_extension": ".py",
   "mimetype": "text/x-python",
   "name": "python",
   "nbconvert_exporter": "python",
   "pygments_lexer": "ipython3",
   "version": "3.9.13"
  }
 },
 "nbformat": 4,
 "nbformat_minor": 4
}
